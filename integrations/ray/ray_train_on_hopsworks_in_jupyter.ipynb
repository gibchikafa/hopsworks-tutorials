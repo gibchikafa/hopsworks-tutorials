{
 "cells": [
  {
   "cell_type": "markdown",
   "id": "4f22f9f9-a89a-42d7-87d6-334b416d6a77",
   "metadata": {},
   "source": [
    "## Training a model using Ray inside a Jupyter notebook\n",
    "This example runs distributed training of a PyTorch model on Fashion MNIST with Ray Train."
   ]
  },
  {
   "cell_type": "code",
   "execution_count": 1,
   "id": "e2a8717e-1ccd-4d88-8427-fc5c3aa3e3c5",
   "metadata": {},
   "outputs": [
    {
     "name": "stdout",
     "output_type": "stream",
     "text": [
      "Initializing ray session...\n",
      "Creating ray cluster...\n"
     ]
    },
    {
     "name": "stderr",
     "output_type": "stream",
     "text": [
      "2025-01-21 07:38:26,451\tINFO client_builder.py:244 -- Passing the following kwargs to ray.init() on the server: log_to_driver\n"
     ]
    },
    {
     "name": "stdout",
     "output_type": "stream",
     "text": [
      "Ray cluster created successfully\n",
      "Connecting to ray cluster at r034-9e0da5b9-3e9a-4b5b-93ec-a33eba028b98-head-svc.g1.svc.cluster.local:10001\n",
      "Ray session successfully created\n"
     ]
    }
   ],
   "source": [
    "import ray\n",
    "import os\n",
    "from typing import Dict\n",
    "\n",
    "import torch\n",
    "from filelock import FileLock\n",
    "from torch import nn\n",
    "from torch.utils.data import DataLoader\n",
    "from torchvision import datasets, transforms\n",
    "from torchvision.transforms import Normalize, ToTensor\n",
    "from tqdm import tqdm"
   ]
  },
  {
   "cell_type": "code",
   "execution_count": 11,
   "id": "3ea04252-37b4-486e-8aab-0e398939f9c7",
   "metadata": {},
   "outputs": [
    {
     "name": "stdout",
     "output_type": "stream",
     "text": [
      "Cluster resources (including memory in GB):\n",
      "node:__internal_head__: 1.00\n",
      "node:10.2.1.235: 1.00\n",
      "node:10.2.0.105: 1.00\n",
      "CPU: 4.00\n",
      "node:10.2.0.104: 1.00\n",
      "memory_gb: 12.00\n",
      "object_store_memory_gb: 3.45\n"
     ]
    }
   ],
   "source": [
    "# Get the cluster resources\n",
    "resources = ray.cluster_resources()\n",
    "\n",
    "if \"memory\" in resources:\n",
    "    resources[\"memory_gb\"] = resources[\"memory\"] / (1024 ** 3)\n",
    "if \"object_store_memory\" in resources:\n",
    "    resources[\"object_store_memory_gb\"] = resources[\"object_store_memory\"] / (1024 ** 3)\n",
    "\n",
    "# Print cluster resources\n",
    "print(\"Cluster resources (including memory in GB):\")\n",
    "for resource, value in resources.items():\n",
    "    if resource in {\"memory\", \"object_store_memory\"}:\n",
    "        continue  # Skip raw memory in bytes\n",
    "    print(f\"{resource}: {value:.2f}\" if isinstance(value, float) else f\"{resource}: {value}\")"
   ]
  },
  {
   "cell_type": "code",
   "execution_count": 2,
   "id": "e19db1e2-ed0f-4f60-8187-83c656946713",
   "metadata": {},
   "outputs": [],
   "source": [
    "def get_dataloaders(batch_size):\n",
    "    # Transform to normalize the input images\n",
    "    transform = transforms.Compose([ToTensor(), Normalize((0.5,), (0.5,))])\n",
    "\n",
    "    with FileLock(os.path.expanduser(\"~/data.lock\")):\n",
    "        # Download training data from open datasets\n",
    "        training_data = datasets.FashionMNIST(\n",
    "            root=\"~/data\",\n",
    "            train=True,\n",
    "            download=True,\n",
    "            transform=transform,\n",
    "        )\n",
    "\n",
    "        # Download test data from open datasets\n",
    "        test_data = datasets.FashionMNIST(\n",
    "            root=\"~/data\",\n",
    "            train=False,\n",
    "            download=True,\n",
    "            transform=transform,\n",
    "        )\n",
    "\n",
    "    # Create data loaders\n",
    "    train_dataloader = DataLoader(training_data, batch_size=batch_size, shuffle=True)\n",
    "    test_dataloader = DataLoader(test_data, batch_size=batch_size)\n",
    "\n",
    "    return train_dataloader, test_dataloader"
   ]
  },
  {
   "cell_type": "code",
   "execution_count": 3,
   "id": "ddb1d3d5-d650-4413-b85f-c60c2576e488",
   "metadata": {},
   "outputs": [],
   "source": [
    "class NeuralNetwork(nn.Module):\n",
    "    def __init__(self):\n",
    "        super(NeuralNetwork, self).__init__()\n",
    "        self.flatten = nn.Flatten()\n",
    "        self.linear_relu_stack = nn.Sequential(\n",
    "            nn.Linear(28 * 28, 512),\n",
    "            nn.ReLU(),\n",
    "            nn.Dropout(0.25),\n",
    "            nn.Linear(512, 512),\n",
    "            nn.ReLU(),\n",
    "            nn.Dropout(0.25),\n",
    "            nn.Linear(512, 10),\n",
    "            nn.ReLU(),\n",
    "        )\n",
    "\n",
    "    def forward(self, x):\n",
    "        x = self.flatten(x)\n",
    "        logits = self.linear_relu_stack(x)\n",
    "        return logits"
   ]
  },
  {
   "cell_type": "code",
   "execution_count": 4,
   "id": "702ad7c0-2d1f-4cb9-8093-3fdc45b611de",
   "metadata": {},
   "outputs": [],
   "source": [
    "# Function to save the model to hopsworks and register it using the hopsworks model registry\n",
    "def register_model(model_name, model_file_path, metrics={}, description=\"A PyTorch model trained with Ray\"):\n",
    "    import hopsworks\n",
    "    project = hopsworks.login()\n",
    "    mr = project.get_model_registry()\n",
    "\n",
    "    # Register the model\n",
    "    model = mr.python.create_model(\n",
    "        name=model_name,\n",
    "        metrics=metrics,\n",
    "        description=description\n",
    "    )\n",
    "    model.save(model_file_path)"
   ]
  },
  {
   "cell_type": "code",
   "execution_count": 6,
   "id": "4ab6af74-03cf-42eb-9ffa-300f0dcf7fd0",
   "metadata": {},
   "outputs": [],
   "source": [
    "# The train_func_per_worker function trains a neural network on a given dataset. \n",
    "# This function is executed independently by each worker\n",
    "def train_func_per_worker(config: Dict):\n",
    "    lr = config[\"lr\"]\n",
    "    epochs = config[\"epochs\"]\n",
    "    batch_size = config[\"batch_size_per_worker\"]\n",
    "\n",
    "    # Get dataloaders inside the worker training function\n",
    "    train_dataloader, test_dataloader = get_dataloaders(batch_size=batch_size)\n",
    "\n",
    "    # [1] Prepare Dataloader for distributed training\n",
    "    # Shard the datasets among workers and move batches to the correct device\n",
    "    # =======================================================================\n",
    "    train_dataloader = ray.train.torch.prepare_data_loader(train_dataloader)\n",
    "    test_dataloader = ray.train.torch.prepare_data_loader(test_dataloader)\n",
    "\n",
    "    model = NeuralNetwork()\n",
    "\n",
    "    # [2] Prepare and wrap your model with DistributedDataParallel\n",
    "    # Move the model to the correct GPU/CPU device\n",
    "    # ============================================================\n",
    "    model = ray.train.torch.prepare_model(model)\n",
    "\n",
    "    loss_fn = nn.CrossEntropyLoss()\n",
    "    optimizer = torch.optim.SGD(model.parameters(), lr=lr, momentum=0.9)\n",
    "\n",
    "    # Model training loop\n",
    "    for epoch in range(epochs):\n",
    "        if ray.train.get_context().get_world_size() > 1:\n",
    "            # Required for the distributed sampler to shuffle properly across epochs.\n",
    "            train_dataloader.sampler.set_epoch(epoch)\n",
    "\n",
    "        model.train()\n",
    "        for X, y in tqdm(train_dataloader, desc=f\"Train Epoch {epoch}\"):\n",
    "            pred = model(X)\n",
    "            loss = loss_fn(pred, y)\n",
    "\n",
    "            optimizer.zero_grad()\n",
    "            loss.backward()\n",
    "            optimizer.step()\n",
    "\n",
    "        model.eval()\n",
    "        test_loss, num_correct, num_total = 0, 0, 0\n",
    "        with torch.no_grad():\n",
    "            for X, y in tqdm(test_dataloader, desc=f\"Test Epoch {epoch}\"):\n",
    "                pred = model(X)\n",
    "                loss = loss_fn(pred, y)\n",
    "\n",
    "                test_loss += loss.item()\n",
    "                num_total += y.shape[0]\n",
    "                num_correct += (pred.argmax(1) == y).sum().item()\n",
    "\n",
    "        test_loss /= len(test_dataloader)\n",
    "        accuracy = num_correct / num_total\n",
    "\n",
    "        # [3] Report metrics to Ray Train\n",
    "        # ===============================\n",
    "        ray.train.report(metrics={\"loss\": test_loss, \"accuracy\": accuracy})\n",
    "\n",
    "    # Only save from one worker. The final model is stored at a worker with rank 0.\n",
    "    if ray.train.get_context().get_world_rank() == 0:  \n",
    "        save_path = \"/tmp/model.pth\"\n",
    "        torch.save(model.state_dict(), save_path)\n",
    "        print(f\"Model saved to {save_path}\")\n",
    "        # Register the final model using hopsworks model registry\n",
    "        # Alternatively the final model can be saved directly in hopsfs and register the model later\n",
    "        register_model(\"ray_train_mnist\", save_path, metrics={\"loss\": test_loss, \"accuracy\": accuracy}, description=\"A PyTorch model trained with Ray\")"
   ]
  },
  {
   "cell_type": "code",
   "execution_count": 7,
   "id": "dc0993c9-bbb3-4713-87f8-50331ff080e4",
   "metadata": {},
   "outputs": [
    {
     "data": {
      "text/html": [],
      "text/plain": [
       "<IPython.core.display.HTML object>"
      ]
     },
     "metadata": {},
     "output_type": "display_data"
    },
    {
     "name": "stdout",
     "output_type": "stream",
     "text": [
      "Training result: Result(\n",
      "  metrics={'loss': 0.4588888406027525, 'accuracy': 0.8262},\n",
      "  path='/home/yarnapp/hopsfs/Resources/mnist_pytorch_train/TorchTrainer_2025-01-21_07-29-58/TorchTrainer_94dd5_00000_0_2025-01-21_07-30-02',\n",
      "  filesystem='local',\n",
      "  checkpoint=None\n",
      ")\n"
     ]
    }
   ],
   "source": [
    "import ray.train\n",
    "from ray.train import ScalingConfig, RunConfig\n",
    "from ray.train.torch import TorchTrainer\n",
    "\n",
    "num_workers = 2\n",
    "use_gpu=False\n",
    "cpus_per_worker=1\n",
    "global_batch_size = 32\n",
    "\n",
    "train_config = {\n",
    "    \"lr\": 1e-3,\n",
    "    \"epochs\": 10,\n",
    "    \"batch_size_per_worker\": global_batch_size // num_workers,\n",
    "}\n",
    "\n",
    "storage_path = \"/home/yarnapp/hopsfs/Resources/mnist_pytorch_train\"\n",
    "\n",
    "run_config = RunConfig(storage_path=storage_path)\n",
    "\n",
    "# Configure computation resources\n",
    "scaling_config = ScalingConfig(\n",
    "    num_workers=num_workers,\n",
    "    use_gpu=use_gpu,\n",
    "    resources_per_worker={\"CPU\": cpus_per_worker}\n",
    ")\n",
    "\n",
    "# Initialize a Ray TorchTrainer\n",
    "trainer = TorchTrainer(\n",
    "    run_config=run_config,\n",
    "    train_loop_per_worker=train_func_per_worker,\n",
    "    train_loop_config=train_config,\n",
    "    scaling_config=scaling_config,\n",
    ")\n",
    "\n",
    "# [4] Start distributed training\n",
    "# Run `train_func_per_worker` on all workers\n",
    "# =============================================\n",
    "result = trainer.fit()\n",
    "print(f\"Training result: {result}\")"
   ]
  }
 ],
 "metadata": {
  "kernelspec": {
   "display_name": "Ray",
   "language": "python",
   "name": "raykernel"
  },
  "language_info": {
   "codemirror_mode": {
    "name": "ipython",
    "version": 3
   },
   "file_extension": ".py",
   "mimetype": "text/x-python",
   "name": "python",
   "nbconvert_exporter": "python",
   "pygments_lexer": "ipython3",
   "version": "3.10.11"
  }
 },
 "nbformat": 4,
 "nbformat_minor": 5
}
